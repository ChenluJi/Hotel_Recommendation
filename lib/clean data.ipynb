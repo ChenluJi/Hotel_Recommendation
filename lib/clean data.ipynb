{
 "cells": [
  {
   "cell_type": "code",
   "execution_count": null,
   "metadata": {
    "collapsed": true
   },
   "outputs": [],
   "source": [
    "%matplotlib inline\n",
    "import numpy as np\n",
    "import pandas as pd\n",
    "import matplotlib.pyplot as plt\n",
    "import seaborn as sns"
   ]
  },
  {
   "cell_type": "code",
   "execution_count": null,
   "metadata": {
    "collapsed": true
   },
   "outputs": [],
   "source": [
    "sns.set_style('whitegrid')\n",
    "sns.set(color_codes=True)"
   ]
  },
  {
   "cell_type": "code",
   "execution_count": null,
   "metadata": {
    "collapsed": true
   },
   "outputs": [],
   "source": [
    "train = pd.read_csv(\"train.csv\", usecols=['date_time', 'is_booking', 'srch_ci', 'srch_co'])"
   ]
  },
  {
   "cell_type": "code",
   "execution_count": 4,
   "metadata": {
    "collapsed": false
   },
   "outputs": [
    {
     "data": {
      "text/html": [
       "<div>\n",
       "<table border=\"1\" class=\"dataframe\">\n",
       "  <thead>\n",
       "    <tr style=\"text-align: right;\">\n",
       "      <th></th>\n",
       "      <th>date_time</th>\n",
       "    </tr>\n",
       "  </thead>\n",
       "  <tbody>\n",
       "    <tr>\n",
       "      <th>count</th>\n",
       "      <td>37670293</td>\n",
       "    </tr>\n",
       "    <tr>\n",
       "      <th>unique</th>\n",
       "      <td>25419546</td>\n",
       "    </tr>\n",
       "    <tr>\n",
       "      <th>top</th>\n",
       "      <td>2014-10-17 21:45:34</td>\n",
       "    </tr>\n",
       "    <tr>\n",
       "      <th>freq</th>\n",
       "      <td>15</td>\n",
       "    </tr>\n",
       "  </tbody>\n",
       "</table>\n",
       "</div>"
      ],
      "text/plain": [
       "                  date_time\n",
       "count              37670293\n",
       "unique             25419546\n",
       "top     2014-10-17 21:45:34\n",
       "freq                     15"
      ]
     },
     "execution_count": 4,
     "metadata": {},
     "output_type": "execute_result"
    }
   ],
   "source": [
    "train.describe()"
   ]
  },
  {
   "cell_type": "code",
   "execution_count": 5,
   "metadata": {
    "collapsed": false
   },
   "outputs": [
    {
     "data": {
      "text/plain": [
       "False"
      ]
     },
     "execution_count": 5,
     "metadata": {},
     "output_type": "execute_result"
    }
   ],
   "source": [
    "train.isnull().values.any()"
   ]
  },
  {
   "cell_type": "code",
   "execution_count": 6,
   "metadata": {
    "collapsed": false
   },
   "outputs": [
    {
     "data": {
      "text/plain": [
       "(37670293, 24)"
      ]
     },
     "execution_count": 6,
     "metadata": {},
     "output_type": "execute_result"
    }
   ],
   "source": [
    "train.shape"
   ]
  },
  {
   "cell_type": "code",
   "execution_count": 10,
   "metadata": {
    "collapsed": false
   },
   "outputs": [
    {
     "data": {
      "text/plain": [
       "['date_time']"
      ]
     },
     "execution_count": 10,
     "metadata": {},
     "output_type": "execute_result"
    }
   ],
   "source": [
    "list(train.columns.values)"
   ]
  },
  {
   "cell_type": "code",
   "execution_count": 9,
   "metadata": {
    "collapsed": false
   },
   "outputs": [
    {
     "data": {
      "text/plain": [
       "0           2014-08-11 07:46:59\n",
       "1           2014-08-11 08:22:12\n",
       "2           2014-08-11 08:24:33\n",
       "3           2014-08-09 18:05:16\n",
       "4           2014-08-09 18:08:18\n",
       "5           2014-08-09 18:13:12\n",
       "6           2014-07-16 09:42:23\n",
       "7           2014-07-16 09:45:48\n",
       "8           2014-07-16 09:52:11\n",
       "9           2014-07-16 09:55:24\n",
       "10          2014-07-16 10:00:06\n",
       "11          2014-07-16 10:02:58\n",
       "12          2014-01-17 06:24:56\n",
       "13          2014-01-18 14:33:31\n",
       "14          2014-01-21 06:39:08\n",
       "15          2014-01-21 06:40:18\n",
       "16          2014-01-22 06:10:02\n",
       "17          2014-01-24 11:52:04\n",
       "18          2014-01-24 17:26:24\n",
       "19          2014-02-27 17:44:23\n",
       "20          2014-02-27 18:01:32\n",
       "21          2014-12-30 09:50:51\n",
       "22          2014-12-30 09:55:43\n",
       "23          2014-12-30 09:56:26\n",
       "24          2014-10-22 12:20:56\n",
       "25          2014-11-10 12:38:02\n",
       "26          2013-06-15 15:10:49\n",
       "27          2013-06-15 15:38:05\n",
       "28          2014-11-22 14:32:46\n",
       "29          2014-11-22 14:37:05\n",
       "                   ...         \n",
       "37670263    2013-06-21 08:56:17\n",
       "37670264    2013-06-21 08:57:34\n",
       "37670265    2013-06-21 09:05:14\n",
       "37670266    2013-06-21 09:53:08\n",
       "37670267    2014-05-02 12:24:09\n",
       "37670268    2014-05-02 12:24:45\n",
       "37670269    2014-05-02 12:26:04\n",
       "37670270    2014-05-02 12:32:27\n",
       "37670271    2014-05-02 12:36:41\n",
       "37670272    2013-09-16 16:10:11\n",
       "37670273    2013-09-16 16:12:38\n",
       "37670274    2013-10-22 22:06:36\n",
       "37670275    2013-10-22 22:07:42\n",
       "37670276    2013-10-30 15:32:52\n",
       "37670277    2013-10-30 15:34:11\n",
       "37670278    2014-01-27 12:33:17\n",
       "37670279    2014-01-27 12:39:44\n",
       "37670280    2014-01-27 14:41:52\n",
       "37670281    2014-01-27 15:02:51\n",
       "37670282    2014-02-09 15:59:16\n",
       "37670283    2014-07-15 10:25:15\n",
       "37670284    2014-07-15 10:34:57\n",
       "37670285    2014-07-15 10:37:42\n",
       "37670286    2014-07-15 10:41:07\n",
       "37670287    2014-07-15 10:48:01\n",
       "37670288    2014-09-02 08:08:28\n",
       "37670289    2014-09-08 14:52:52\n",
       "37670290    2014-09-15 06:56:51\n",
       "37670291    2014-09-18 08:49:33\n",
       "37670292    2014-09-18 08:52:42\n",
       "Name: date_time, dtype: object"
      ]
     },
     "execution_count": 9,
     "metadata": {},
     "output_type": "execute_result"
    }
   ],
   "source": [
    "train[\"date_time\"]"
   ]
  },
  {
   "cell_type": "code",
   "execution_count": 10,
   "metadata": {
    "collapsed": false
   },
   "outputs": [
    {
     "data": {
      "text/plain": [
       "['2014', '08', '11']"
      ]
     },
     "execution_count": 10,
     "metadata": {},
     "output_type": "execute_result"
    }
   ],
   "source": [
    "train[\"date_time\"][0].split()[0].split(\"-\")"
   ]
  },
  {
   "cell_type": "code",
   "execution_count": 13,
   "metadata": {
    "collapsed": false
   },
   "outputs": [],
   "source": [
    "#split the column date_time into year, month, day and time column\n",
    "train[\"year\"] = [x.split()[0].split(\"-\")[0] for x in train[\"date_time\"]]\n",
    "train[\"month\"] = [x.split()[0].split(\"-\")[1] for x in train[\"date_time\"]]\n",
    "\n",
    "#concatenate year and month\n",
    "train[\"year-month\"] = [x + \"-\" + y for (x,y) in zip(train[\"year\"], train[\"month\"])]\n",
    "\n",
    "#train[\"day\"] = [x.split()[0].split(\"-\")[2] for x in train[\"date_time\"]]\n",
    "#train[\"time\"] = [x.split()[1] for x in train[\"date_time\"]]"
   ]
  },
  {
   "cell_type": "code",
   "execution_count": 14,
   "metadata": {
    "collapsed": false
   },
   "outputs": [],
   "source": [
    "#concatenate year and month\n",
    "train[\"year-month\"] = [x + \"-\" + y for (x,y) in zip(train[\"year\"], train[\"month\"])]"
   ]
  },
  {
   "cell_type": "code",
   "execution_count": 13,
   "metadata": {
    "collapsed": false
   },
   "outputs": [
    {
     "data": {
      "text/plain": [
       "{'2013-01',\n",
       " '2013-02',\n",
       " '2013-03',\n",
       " '2013-04',\n",
       " '2013-05',\n",
       " '2013-06',\n",
       " '2013-07',\n",
       " '2013-08',\n",
       " '2013-09',\n",
       " '2013-10',\n",
       " '2013-11',\n",
       " '2013-12',\n",
       " '2014-01',\n",
       " '2014-02',\n",
       " '2014-03',\n",
       " '2014-04',\n",
       " '2014-05',\n",
       " '2014-06',\n",
       " '2014-07',\n",
       " '2014-08',\n",
       " '2014-09',\n",
       " '2014-10',\n",
       " '2014-11',\n",
       " '2014-12'}"
      ]
     },
     "execution_count": 13,
     "metadata": {},
     "output_type": "execute_result"
    }
   ],
   "source": [
    "set(train[\"year-month\"])"
   ]
  },
  {
   "cell_type": "code",
   "execution_count": 6,
   "metadata": {
    "collapsed": true
   },
   "outputs": [],
   "source": [
    "from matplotlib import pyplot"
   ]
  },
  {
   "cell_type": "code",
   "execution_count": 8,
   "metadata": {
    "collapsed": true
   },
   "outputs": [],
   "source": [
    "a = [3,3,3,2,1,4,4,5,5,5,5,5,5,5,5,5]"
   ]
  },
  {
   "cell_type": "code",
   "execution_count": 10,
   "metadata": {
    "collapsed": false
   },
   "outputs": [],
   "source": [
    "import seaborn as sns\n",
    "\n",
    "sns.set_style('whitegrid')\n",
    "sns.set(color_codes=True)"
   ]
  },
  {
   "cell_type": "code",
   "execution_count": 11,
   "metadata": {
    "collapsed": false,
    "scrolled": true
   },
   "outputs": [
    {
     "data": {
      "image/png": "[encoded data removed]",
      "text/plain": [
       "<matplotlib.figure.Figure at 0x1855e1780>"
      ]
     },
     "metadata": {},
     "output_type": "display_data"
    }
   ],
   "source": [
    "plt.hist(a)\n",
    "plt.show()"
   ]
  },
  {
   "cell_type": "code",
   "execution_count": null,
   "metadata": {
    "collapsed": true
   },
   "outputs": [],
   "source": [
    "f = plt.figure()\n",
    "plt.hist(train['year-month'], bins=24, normed=True, label='train bookings')\n",
    "plt.title('Search time distribution')\n",
    "plt.legend(loc='best')\n",
    "f.savefig('SearchTime.png', dpi=300)\n",
    "plt.show()"
   ]
  },
  {
   "cell_type": "code",
   "execution_count": null,
   "metadata": {
    "collapsed": true
   },
   "outputs": [],
   "source": []
  },
  {
   "cell_type": "code",
   "execution_count": null,
   "metadata": {
    "collapsed": true
   },
   "outputs": [],
   "source": []
  },
  {
   "cell_type": "code",
   "execution_count": null,
   "metadata": {
    "collapsed": true
   },
   "outputs": [],
   "source": [
    "ggplot(train, aes(x='site_name', y='hotel_cluster', color='year')) +\\\n",
    "    geom_point() +\\\n",
    "    scale_color_brewer(type='diverging', palette=2) +\\\n",
    "    xlab(\"site_name\") + ylab(\"hotel_cluster\") + ggtitle(\"Diamonds\")"
   ]
  },
  {
   "cell_type": "code",
   "execution_count": null,
   "metadata": {
    "collapsed": true
   },
   "outputs": [],
   "source": [
    "ggplot(aes(x='site_name'), data=train) +\\\n",
    "    geom_histogram(binwidth=1)"
   ]
  },
  {
   "cell_type": "code",
   "execution_count": null,
   "metadata": {
    "collapsed": true
   },
   "outputs": [],
   "source": []
  }
 ],
 "metadata": {
  "kernelspec": {
   "display_name": "Python 3",
   "language": "python",
   "name": "python3"
  },
  "language_info": {
   "codemirror_mode": {
    "name": "ipython",
    "version": 3
   },
   "file_extension": ".py",
   "mimetype": "text/x-python",
   "name": "python",
   "nbconvert_exporter": "python",
   "pygments_lexer": "ipython3",
   "version": "3.5.1"
  }
 },
 "nbformat": 4,
 "nbformat_minor": 0
}
